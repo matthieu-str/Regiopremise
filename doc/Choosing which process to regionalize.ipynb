{
 "cells": [
  {
   "cell_type": "code",
   "execution_count": 1,
   "id": "b8b011f3-887d-4d23-8553-713f6ca82079",
   "metadata": {},
   "outputs": [],
   "source": [
    "import brightway2 as bw2\n",
    "import pandas as pd\n",
    "import numpy as np\n",
    "import json\n",
    "from tqdm import tqdm"
   ]
  },
  {
   "cell_type": "markdown",
   "id": "553ef34b-06ba-4825-89c0-05fb57190b36",
   "metadata": {},
   "source": [
    "Notebook describes the steps followed to select which of the non-internationally traded commodities are the most relevant to regionalize. \n",
    "\n",
    "To do so, we will look at the contributions of each of these non-traded goods in each process of the original ecoinvent database and select the most relevant processes, based on these contributions."
   ]
  },
  {
   "cell_type": "code",
   "execution_count": 2,
   "id": "ca2fa8cb-1fb5-45b1-b5c3-e5381660d66e",
   "metadata": {},
   "outputs": [],
   "source": [
    "# select the brightway project\n",
    "bw2.projects.set_current('ecoinvent3.10.1')\n",
    "db_ecoinvent = bw2.Database('ecoinvent-3.10.1-cutoff')"
   ]
  },
  {
   "cell_type": "markdown",
   "id": "4f398526-dc73-4a40-8002-f24f69cda1f6",
   "metadata": {},
   "source": [
    "Which ecoinvent processes to choose for the analysis? All of them, but exclude markets because they are irrelevant. That's about 13,000 processes."
   ]
  },
  {
   "cell_type": "code",
   "execution_count": 3,
   "id": "62ec78a6-f4ef-462f-8f3e-d3d5827e7504",
   "metadata": {},
   "outputs": [],
   "source": [
    "ecoinvent_processes_to_study = []\n",
    "for act in db_ecoinvent:\n",
    "    if ('market for' not in act.as_dict()['name'] and 'market group for' not in act.as_dict()['name'] and \n",
    "        \"import from\" not in act.as_dict()['name'] and \"generic\" not in act.as_dict()['name']):\n",
    "        ecoinvent_processes_to_study.append(act.key[1])"
   ]
  },
  {
   "cell_type": "markdown",
   "id": "cc18fac9-4a30-48a9-a69e-31a2488c1a73",
   "metadata": {},
   "source": [
    "We need access to the technosphere matrix to do these 13,000 contribution analyses efficiently. The only way to access the technosphere matrix in brightway2 is to make a calculation. So we do a random one."
   ]
  },
  {
   "cell_type": "code",
   "execution_count": 4,
   "id": "2f22bac8-efbb-4874-8887-621f0d963a83",
   "metadata": {},
   "outputs": [],
   "source": [
    "lca = bw2.LCA({db_ecoinvent.random():1}, ('IMPACT World+ Damage 2.1_regionalized for ecoinvent v3.10', 'Human health', 'Total human health'))\n",
    "lca.lci(factorize=True)\n",
    "lca.lcia()"
   ]
  },
  {
   "cell_type": "markdown",
   "id": "2c6a2172-513b-40ee-83c9-059c22c5ad4a",
   "metadata": {},
   "source": [
    "Now we will invert that matrix. While this is less efficient than solving the system \"à la brightway\", for what we are about to do it is a billion times more efficient to just invert the matrix."
   ]
  },
  {
   "cell_type": "code",
   "execution_count": 5,
   "id": "b1ede70e-8605-441c-91c3-b2feffbb3d7a",
   "metadata": {},
   "outputs": [],
   "source": [
    "A = lca.technosphere_matrix.todense()\n",
    "I = np.eye(len(A))\n",
    "A_inv = np.linalg.solve(A, I)"
   ]
  },
  {
   "cell_type": "markdown",
   "id": "54b91838-5b14-4186-af33-f82743cd18ff",
   "metadata": {},
   "source": [
    "Reformatting A, B and C and its the A inverse. And calculating the lca scores for all the 13,000 processes (that's D)"
   ]
  },
  {
   "cell_type": "code",
   "execution_count": 6,
   "id": "80402c7a-dfc2-42ae-b6df-f4ffc5da7d6f",
   "metadata": {},
   "outputs": [],
   "source": [
    "A = pd.DataFrame(A+I, [i[1] for i in lca.activity_dict], [i[1] for i in lca.activity_dict])\n",
    "A_inv = pd.DataFrame(A_inv, [i[1] for i in lca.activity_dict], [i[1] for i in lca.activity_dict])\n",
    "B = pd.DataFrame(lca.biosphere_matrix.todense(), [i[1] for i in lca.biosphere_dict], [i[1] for i in lca.activity_dict])\n",
    "C = pd.DataFrame(lca.characterization_matrix.todense(), [i[1] for i in lca.biosphere_dict], [i[1] for i in lca.biosphere_dict])\n",
    "D = C.dot(B).dot(A_inv).sum()"
   ]
  },
  {
   "cell_type": "markdown",
   "id": "9d068d09-5baa-44c2-8bdc-4fd95a041431",
   "metadata": {},
   "source": [
    "Now if we diagonalize the demand in the technosphere matrix and simply multiply by the normalized life cycle impacts from D, we get the first-tier contributions very efficiently. We only need to add direct emissions as well."
   ]
  },
  {
   "cell_type": "code",
   "execution_count": 7,
   "id": "e6408712-4dfe-4655-8bb5-208a46431c6f",
   "metadata": {},
   "outputs": [],
   "source": [
    "# get first-tier contributions\n",
    "D_matrix = np.diag(D.values)\n",
    "Ak = A.loc[:, ecoinvent_processes_to_study]\n",
    "contribs_hh = D_matrix @ Ak\n",
    "# change index\n",
    "contribs_hh.index = lca.activity_dict\n",
    "# add direct emissions from process\n",
    "direct_em = C.dot(B).sum()\n",
    "direct_em = pd.DataFrame(np.diag(direct_em), contribs_hh.index, direct_em.index).T.reindex(contribs_hh.columns).T\n",
    "contribs_hh -= direct_em"
   ]
  },
  {
   "cell_type": "markdown",
   "id": "f3f271ea-c8a7-4fd1-8b00-752403aa6bc1",
   "metadata": {},
   "source": [
    "We did it for Total human health. Now switch to ecosystem quality"
   ]
  },
  {
   "cell_type": "code",
   "execution_count": 8,
   "id": "7742f90c-e42c-4034-bc14-69b0070b31fe",
   "metadata": {},
   "outputs": [],
   "source": [
    "lca.switch_method(('IMPACT World+ Damage 2.1_regionalized for ecoinvent v3.10', 'Ecosystem quality', 'Total ecosystem quality'))\n",
    "C = pd.DataFrame(lca.characterization_matrix.todense(), [i[1] for i in lca.biosphere_dict], [i[1] for i in lca.biosphere_dict])\n",
    "D = C.dot(B).dot(A_inv).sum()"
   ]
  },
  {
   "cell_type": "code",
   "execution_count": 9,
   "id": "148188ca-fc73-4114-910b-23ac811cd573",
   "metadata": {},
   "outputs": [],
   "source": [
    "# get first-tier contributions\n",
    "D_matrix = np.diag(D.values)\n",
    "Ak = A.loc[:, ecoinvent_processes_to_study]\n",
    "contribs_eq = D_matrix @ Ak\n",
    "# change index\n",
    "contribs_eq.index = lca.activity_dict\n",
    "# add direct emissions from process\n",
    "direct_em = C.dot(B).sum()\n",
    "direct_em = pd.DataFrame(np.diag(direct_em), contribs_eq.index, direct_em.index).T.reindex(contribs_eq.columns).T\n",
    "contribs_eq -= direct_em"
   ]
  },
  {
   "cell_type": "markdown",
   "id": "11a96b96-7e50-4d2e-ac8b-ca9e0cc1535e",
   "metadata": {},
   "source": [
    "Now let's check the contribution of non-traded products only. So basically remove traded products from the indexes of the contribution matrices"
   ]
  },
  {
   "cell_type": "code",
   "execution_count": 10,
   "id": "8fb9ea13-79f0-452e-8251-462a4debfd6f",
   "metadata": {},
   "outputs": [],
   "source": [
    "with open('C://Users/11max/PycharmProjects/Regioinvent/Data/Regionalization/ei3.10/ecoinvent_to_HS.json','r') as f:\n",
    "    regionalized_traded_products = json.load(f)"
   ]
  },
  {
   "cell_type": "code",
   "execution_count": 11,
   "id": "0967da02-19e9-439a-af33-abd54eb5dd6a",
   "metadata": {
    "scrolled": true
   },
   "outputs": [],
   "source": [
    "# need to save totals before cutting through the results\n",
    "tot_hh = contribs_hh.sum()\n",
    "tot_eq = contribs_eq.sum()"
   ]
  },
  {
   "cell_type": "code",
   "execution_count": 12,
   "id": "1c29ed58-d379-4810-a389-ed088b9e1dc4",
   "metadata": {
    "scrolled": true
   },
   "outputs": [],
   "source": [
    "contribs_hh = contribs_hh.loc[[i for i in contribs_hh.index if db_ecoinvent.get(i[1]).as_dict()['reference product'] not in regionalized_traded_products.keys()]]\n",
    "contribs_eq = contribs_eq.loc[[i for i in contribs_eq.index if db_ecoinvent.get(i[1]).as_dict()['reference product'] not in regionalized_traded_products.keys()]]"
   ]
  },
  {
   "cell_type": "markdown",
   "id": "fbfe07ba-174a-442e-b60a-001fba27e5b2",
   "metadata": {},
   "source": [
    "Now regroup per reference product. we don't care if it's sweet gas from sorghum, maize, from the Us or China. We just wanna know if sweet gas is relevant overall."
   ]
  },
  {
   "cell_type": "code",
   "execution_count": 13,
   "id": "490dc2b6-607a-4bad-9bbb-7479af4e9a26",
   "metadata": {},
   "outputs": [],
   "source": [
    "contribs_hh.index = [db_ecoinvent.get(i[1]).as_dict()['reference product'] for i in contribs_hh.index]\n",
    "contribs_eq.index = [db_ecoinvent.get(i[1]).as_dict()['reference product'] for i in contribs_eq.index]"
   ]
  },
  {
   "cell_type": "code",
   "execution_count": 14,
   "id": "b4fd1538-a785-4144-8954-8e9b11a4a83d",
   "metadata": {
    "scrolled": true
   },
   "outputs": [],
   "source": [
    "contribs_hh = contribs_hh.groupby(level=0).sum()\n",
    "contribs_eq = contribs_eq.groupby(level=0).sum()"
   ]
  },
  {
   "cell_type": "code",
   "execution_count": 15,
   "id": "522c8461-581a-4b42-bb54-075d477eee69",
   "metadata": {
    "scrolled": true
   },
   "outputs": [],
   "source": [
    "# go to relative results\n",
    "contribs_hh = contribs_hh / contribs_hh.sum()\n",
    "contribs_eq = contribs_eq / contribs_eq.sum()"
   ]
  },
  {
   "cell_type": "code",
   "execution_count": 16,
   "id": "e9f01571-05b0-4cf3-aa83-57d5ef54214e",
   "metadata": {
    "scrolled": true
   },
   "outputs": [],
   "source": [
    "# if the contrib is 1 -> only this product is called in the process -> not real contribution\n",
    "# same with contribution of 2 with -1 to compensate\n",
    "contribs_hh = contribs_hh[contribs_hh != 1].fillna(0)\n",
    "contribs_eq = contribs_eq[contribs_eq != 1].fillna(0)\n",
    "contribs_hh = contribs_hh[contribs_hh != -1].fillna(0)\n",
    "contribs_eq = contribs_eq[contribs_eq != -1].fillna(0)\n",
    "contribs_hh = contribs_hh[contribs_hh != 2].fillna(0)\n",
    "contribs_eq = contribs_eq[contribs_eq != 2].fillna(0)"
   ]
  },
  {
   "cell_type": "code",
   "execution_count": 17,
   "id": "6500fc99-8a6d-457d-9f5d-2c966f5f63a7",
   "metadata": {},
   "outputs": [],
   "source": [
    "# remove the processes that are the basis for the regionalization in regioinvent\n",
    "regionalization_core = ['heat, district or industrial, natural gas',\n",
    "                        'heat, district or industrial, other than natural gas',\n",
    "                        'heat, central or small-scale, other than natural gas',\n",
    "                        'municipal solid waste',\n",
    "                        'electricity, for reuse in municipal waste incineration only',\n",
    "                        'heat, for reuse in municipal waste incineration only',\n",
    "                        'electricity, high voltage, aluminium industry',\n",
    "                        'electricity, medium voltage, aluminium industry',\n",
    "                        'electricity, high voltage, cobalt industry',\n",
    "                        'electricity, medium voltage, cobalt industry',\n",
    "                        'electricity, high voltage',\n",
    "                        'electricity, medium voltage',\n",
    "                        'electricity, low voltage']\n",
    "contribs_hh = contribs_hh.loc[~contribs_hh.index.isin(regionalization_core)]\n",
    "contribs_eq = contribs_eq.loc[~contribs_eq.index.isin(regionalization_core)]\n",
    "\n",
    "\n",
    "# also remove products that are specific to Swizterland\n",
    "only_swiss_products = [i for i in contribs_hh.index if 'Swiss' in i] + [\"electricity, high voltage, renewable energy products\"]\n",
    "contribs_hh = contribs_hh.loc[~contribs_hh.index.isin(only_swiss_products)]\n",
    "contribs_eq = contribs_eq.loc[~contribs_eq.index.isin(only_swiss_products)]"
   ]
  },
  {
   "cell_type": "code",
   "execution_count": 18,
   "id": "7dedb18f-6036-4add-9655-81130e9986e9",
   "metadata": {
    "scrolled": true
   },
   "outputs": [],
   "source": [
    "# let's order things around\n",
    "contribs_hh = abs((contribs_hh.sum(axis=1) / contribs_hh.sum().sum())).sort_values(ascending=False)\n",
    "contribs_eq = abs((contribs_eq.sum(axis=1) / contribs_eq.sum().sum())).sort_values(ascending=False)"
   ]
  },
  {
   "cell_type": "markdown",
   "id": "58610ff5-0863-42f1-baeb-b8e6f8a5d804",
   "metadata": {},
   "source": [
    "If we defined \"relevancy\" as contributing to more than 1% of contributions overall, then there would be very few non-traded processes that would be relevant: ~15. And I didn't do all of this to regionalize only 15 products, so let's define relevancy at 0.3% instead, this leads to a bit more than 75 products being relevant."
   ]
  },
  {
   "cell_type": "code",
   "execution_count": 19,
   "id": "5dcf1c50-2cb9-47ee-94a8-b6b73c896c1c",
   "metadata": {
    "scrolled": true
   },
   "outputs": [
    {
     "data": {
      "text/plain": [
       "['blasting',\n",
       " 'building, hall',\n",
       " 'building, multi-storey',\n",
       " 'chemical factory, organics',\n",
       " 'citric acid',\n",
       " 'combine harvesting',\n",
       " 'concrete mixing factory',\n",
       " 'deep well, drilled, for geothermal power',\n",
       " 'diesel, burned in building machine',\n",
       " 'diesel, burned in fishing vessel',\n",
       " 'drawing of pipe, steel',\n",
       " 'energy and auxilliary inputs, metal working factory',\n",
       " 'fertilising, by broadcaster',\n",
       " 'hazardous waste, for incineration',\n",
       " 'heat, central or small-scale, natural gas',\n",
       " 'heat, from steam, in chemical industry',\n",
       " 'hydropower plant, reservoir, alpine region',\n",
       " 'hydropower plant, run-of-river',\n",
       " 'inert material landfill',\n",
       " 'irrigation',\n",
       " 'land tenure, arable land, measured as carbon net primary productivity, annual crop',\n",
       " 'land tenure, arable land, measured as carbon net primary productivity, pasture, man made',\n",
       " 'land use change, annual crop',\n",
       " 'land use change, forest, intensive',\n",
       " 'land use change, pasture, man made',\n",
       " 'land use change, perennial crop',\n",
       " 'leachate, SLF, municipal solid waste',\n",
       " 'leachate, SLF, waste wood, untreated',\n",
       " 'liquid manure spreading, by vacuum tanker',\n",
       " 'metal working, average for steel product manufacturing',\n",
       " 'mine infrastructure, underground, non-ferrous metal',\n",
       " 'natural gas, vented',\n",
       " 'organic nitrogen fertiliser, as N',\n",
       " 'organic phosphorus fertiliser, as P2O5',\n",
       " 'organic potassium fertiliser, as K2O',\n",
       " 'photovoltaic plant, 570kWp, multi-Si, on open ground',\n",
       " 'photovoltaics, electric installation for 3kWp module, at building',\n",
       " 'planing mill',\n",
       " 'process-specific burdens, inert material landfill',\n",
       " 'process-specific burdens, slag landfill',\n",
       " 'refinery sludge',\n",
       " 'residual material landfill',\n",
       " 'residues, MSWI, municipal solid waste',\n",
       " 'sewage sludge, 97% water, WWT-SLF, municipal solid waste',\n",
       " 'sheet rolling, steel',\n",
       " 'slag landfill',\n",
       " 'sludge from pulp and paper production',\n",
       " 'spent solvent mixture',\n",
       " 'steam, in chemical industry',\n",
       " 'sweet gas, burned in gas turbine',\n",
       " 'tap water',\n",
       " 'tillage, ploughing',\n",
       " 'transport, freight train',\n",
       " 'transport, pipeline, onshore, long distance, natural gas',\n",
       " 'ventilation components factory',\n",
       " 'waste cement, hydrated',\n",
       " 'waste concrete',\n",
       " 'waste natural gas, sweet',\n",
       " 'waste plastic, mixture',\n",
       " 'waste polyethylene',\n",
       " 'waste rubber, unspecified',\n",
       " 'wastewater from pig iron production',\n",
       " 'wastewater, average',\n",
       " 'water pump operation, electric',\n",
       " 'water, decarbonised',\n",
       " 'wood ash mixture, pure',\n",
       " 'zeolite, powder']"
      ]
     },
     "execution_count": 19,
     "metadata": {},
     "output_type": "execute_result"
    }
   ],
   "source": [
    "relevant_non_traded_products = list(set(contribs_hh[contribs_hh > 0.003].index.tolist() + contribs_eq[contribs_eq > 0.003].index.tolist()))\n",
    "relevant_non_traded_products.sort()\n",
    "relevant_non_traded_products"
   ]
  },
  {
   "cell_type": "code",
   "execution_count": 21,
   "id": "0fd7e810-6d14-4659-95a3-20baa0b7333e",
   "metadata": {},
   "outputs": [],
   "source": [
    "with open('C://Users/11max/PycharmProjects/Regioinvent/Data/Regionalization/ei3.10/relevant_non_traded_products.json', 'w') as f:\n",
    "    json.dump(relevant_non_traded_products, f)"
   ]
  },
  {
   "cell_type": "code",
   "execution_count": null,
   "id": "9a05aed7-11ed-489f-b1a4-012ad443d260",
   "metadata": {},
   "outputs": [],
   "source": []
  },
  {
   "cell_type": "code",
   "execution_count": null,
   "id": "598d14bf-0237-4a91-98a4-246057ea5d77",
   "metadata": {},
   "outputs": [],
   "source": []
  }
 ],
 "metadata": {
  "kernelspec": {
   "display_name": "Python 3 (ipykernel)",
   "language": "python",
   "name": "python3"
  },
  "language_info": {
   "codemirror_mode": {
    "name": "ipython",
    "version": 3
   },
   "file_extension": ".py",
   "mimetype": "text/x-python",
   "name": "python",
   "nbconvert_exporter": "python",
   "pygments_lexer": "ipython3",
   "version": "3.11.8"
  }
 },
 "nbformat": 4,
 "nbformat_minor": 5
}
