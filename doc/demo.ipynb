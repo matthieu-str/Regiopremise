{
 "cells": [
  {
   "cell_type": "markdown",
   "id": "e85848dd-c2ef-4061-88b5-0208ec790985",
   "metadata": {},
   "source": "# How to use Regiopremise"
  },
  {
   "metadata": {},
   "cell_type": "markdown",
   "source": [
    "**IMPORTANT**\n",
    "Before running this notebook, you should have the regionalized version of EF3.1 installed in your brightway project, as well as the spatialized biosphere database specific to EF3.1. Both of them can be generated with this [notebook](https://github.com/matthieu-str/mescal/blob/master/dev/ef%20regionalized/EF%203.1%20regionalized.ipynb). "
   ],
   "id": "6a75b337b1e27f0d"
  },
  {
   "cell_type": "markdown",
   "id": "5202dfd4-410f-4447-8f74-a92af06e6859",
   "metadata": {},
   "source": [
    "Note that running this entire notebook will take you around 2 hours.\n",
    "\n",
    "To be able to use Regiopremise, we will need:\n",
    "- to install the brightway2 Python library (brightway2 and NOT brightway2.5)\n",
    "- a brightway project within which there is an ecoinvent database with the version 3.9.1 cut-off (only supported version so far)\n",
    "- to download the trade database stored here: https://doi.org/10.5281/zenodo.13146833 Make sure to take the \"treated\" database where UN COMTRADE data was refined"
   ]
  },
  {
   "metadata": {
    "ExecuteTime": {
     "end_time": "2024-11-01T15:49:01.574206Z",
     "start_time": "2024-11-01T15:49:01.559347Z"
    }
   },
   "cell_type": "code",
   "source": "path = 'path_to_your_regiopremise_project'",
   "id": "ea08a6aad67a6bd4",
   "outputs": [],
   "execution_count": 1
  },
  {
   "cell_type": "code",
   "id": "01366db1-cbce-449b-839e-dbcc07ad2a28",
   "metadata": {
    "ExecuteTime": {
     "end_time": "2024-11-01T15:49:08.702356Z",
     "start_time": "2024-11-01T15:49:02.000492Z"
    }
   },
   "source": [
    "import pandas as pd\n",
    "import numpy as np\n",
    "import sys\n",
    "sys.path.append(path)\n",
    "import regioinvent"
   ],
   "outputs": [],
   "execution_count": 2
  },
  {
   "metadata": {},
   "cell_type": "markdown",
   "source": "## Creation of a premise database with spatialized biosphere flows",
   "id": "f3e731eb44c29ec3"
  },
  {
   "cell_type": "markdown",
   "id": "7af64753-f347-47c8-a7c6-1566f2a33388",
   "metadata": {},
   "source": [
    "The initialization of the Regioinvent class requires the following arguments:\n",
    "- the path to the trade database\n",
    "- the name you want to to give to the resulting regionalized ecoinvent database created\n",
    "- the name of your brightway2 project\n",
    "- the name of the premise database in your brightway2 project\n",
    "- a boolean if you wish to regionalize elementary flows or not (True by default)\n",
    "- a cutoff value to determine how \"deep\" regionalization should go. 0.99 cutoff leads to a ~185,000 processes database. Should not try to go higher than 0.99, code might bug as processes with new regions might show up, for which no mapping might have been done."
   ]
  },
  {
   "cell_type": "code",
   "id": "60067ead-0ea4-4385-b676-8893c6285288",
   "metadata": {
    "ExecuteTime": {
     "end_time": "2024-11-01T15:59:48.584759Z",
     "start_time": "2024-11-01T15:49:08.702356Z"
    }
   },
   "source": [
    "regio = regioinvent.Regioinvent(\n",
    "    trade_database_path=f'{path}/trade_data_treated.db', # not used while the rest of the notebook is WIP\n",
    "    regiopremise_database_name='Regiopremise', # not used while the rest of the notebook is WIP\n",
    "    bw_project_name='ecoinvent3.9.1',\n",
    "    premise_database_name='ecoinvent_cutoff_3.9.1_image_SSP2-Base_2020',\n",
    "    regionalized_elementary_flows=True,\n",
    "    cutoff=0.99\n",
    ")"
   ],
   "outputs": [
    {
     "name": "stderr",
     "output_type": "stream",
     "text": [
      "2024-11-01 11:49:08,978 - Regioinvent - INFO - Extracting ecoinvent to wurst...\n"
     ]
    },
    {
     "name": "stdout",
     "output_type": "stream",
     "text": [
      "Getting activity data\n"
     ]
    },
    {
     "name": "stderr",
     "output_type": "stream",
     "text": [
      "100%|██████████| 33941/33941 [00:00<00:00, 48554.12it/s]\n"
     ]
    },
    {
     "name": "stdout",
     "output_type": "stream",
     "text": [
      "Adding exchange data to activities\n"
     ]
    },
    {
     "name": "stderr",
     "output_type": "stream",
     "text": [
      "100%|██████████| 988771/988771 [02:10<00:00, 7576.82it/s] \n"
     ]
    },
    {
     "name": "stdout",
     "output_type": "stream",
     "text": [
      "Filling out exchange data\n"
     ]
    },
    {
     "name": "stderr",
     "output_type": "stream",
     "text": [
      "100%|██████████| 33941/33941 [00:03<00:00, 8900.12it/s] \n",
      "2024-11-01 11:51:30,117 - Regioinvent - INFO - Regionalizing the biosphere inputs of the original ecoinvent database...\n",
      "Writing activities to SQLite3 database:\n",
      "0% [##############################] 100% | ETA: 00:00:00\n",
      "Total time elapsed: 00:01:11\n"
     ]
    },
    {
     "name": "stdout",
     "output_type": "stream",
     "text": [
      "Title: Writing activities to SQLite3 database:\n",
      "  Started: 11/01/2024 11:52:36\n",
      "  Finished: 11/01/2024 11:53:47\n",
      "  Total time elapsed: 00:01:11\n",
      "  CPU %: 48.20\n",
      "  Memory %: 31.09\n"
     ]
    }
   ],
   "execution_count": 3
  },
  {
   "cell_type": "markdown",
   "id": "c4075258-017c-4d62-b9e2-6d5a5002b63e",
   "metadata": {},
   "source": [
    "The initialization will first import everything related to regionalized elementary flows (if regionalized_elementary_flows=True), thus creating two new databases: a regionalized biosphere3 and a regionalized version of ecoinvent, as well as importing the regionalized version of the IMPACT World+ LCIA methodology. <br> The created regionalized version of ecoinvent also accounts for the creation of new water technosphere flows to correct inconsistencies in ecoinvent processes using water technosphere flows. <br>\n",
    "It will then use the ```wurst``` Python library to extract your ecoinvent database from brightway into a list of dictionnary format which tremendously speed up operations made to the database."
   ]
  },
  {
   "metadata": {},
   "cell_type": "markdown",
   "source": "## WIP: the rest of the notebook still requires adaptation to premise",
   "id": "642a9e9599249776"
  },
  {
   "cell_type": "markdown",
   "id": "2a9ed3cb-d827-4eb8-847c-cd15df807f01",
   "metadata": {},
   "source": [
    "Next, we extract and format the export data from the trade database"
   ]
  },
  {
   "cell_type": "code",
   "execution_count": null,
   "id": "f386fd5d-8073-4d0f-a96e-be9151cdbaf0",
   "metadata": {},
   "outputs": [],
   "source": [
    "regio.format_export_data()"
   ]
  },
  {
   "cell_type": "markdown",
   "id": "c05ffb4b-4f6c-4eae-b6b8-0d25f8ff1560",
   "metadata": {},
   "source": [
    "We estimate the domestic production data based on the ratio of domestic vs export of the EXIOBASEv3.8.2 database 2019. This ratio is applied to self.export_data."
   ]
  },
  {
   "cell_type": "code",
   "execution_count": null,
   "id": "12fe15f4-e3e4-439a-9938-dbffc90ae286",
   "metadata": {},
   "outputs": [],
   "source": [
    "regio.estimate_domestic_production()"
   ]
  },
  {
   "cell_type": "markdown",
   "id": "62314963-62a7-43c5-8333-4df9f8e5b38c",
   "metadata": {},
   "source": [
    "We apply first order regionalization, that is for the 1870 traded products of the ecoinvent3.9.1 cut-off database, we determine the exporters of each product (through self.export_data) and then regionalize the following key inputs:\n",
    "- electricity\n",
    "- municipal solid waste\n",
    "- heat"
   ]
  },
  {
   "cell_type": "code",
   "execution_count": null,
   "id": "23e61d08-ef9c-45d7-9344-085b6451d166",
   "metadata": {},
   "outputs": [],
   "source": [
    "regio.first_order_regionalization()"
   ]
  },
  {
   "cell_type": "markdown",
   "id": "95ab170f-898e-45b0-8318-04408e6a3ebc",
   "metadata": {},
   "source": [
    "We then extract and format the import data from the trade database. The import data is combined with the domestic production to get total consumption data per product per country"
   ]
  },
  {
   "cell_type": "code",
   "execution_count": null,
   "id": "3ccaab1b-c5d3-49ae-adcb-9cce79bd690e",
   "metadata": {},
   "outputs": [],
   "source": [
    "regio.format_import_data()"
   ]
  },
  {
   "cell_type": "markdown",
   "id": "4b1058d2-7b1a-45cb-a24a-2ea5f0536767",
   "metadata": {},
   "source": [
    "We determine consumption markets for each of the 1870 products."
   ]
  },
  {
   "cell_type": "code",
   "execution_count": null,
   "id": "331cdfdb-55fb-4699-88f6-69ff91c0d418",
   "metadata": {},
   "outputs": [],
   "source": [
    "regio.create_consumption_markets()"
   ]
  },
  {
   "cell_type": "markdown",
   "id": "58d0db05-5063-41fe-a508-05fdebcb7605",
   "metadata": {},
   "source": [
    "We relink created consumption markets to regionalized processes across the regioinvent database."
   ]
  },
  {
   "cell_type": "code",
   "execution_count": null,
   "id": "ac673633-98b0-4070-b94d-03a659a806b6",
   "metadata": {},
   "outputs": [],
   "source": [
    "regio.second_order_regionalization()"
   ]
  },
  {
   "cell_type": "markdown",
   "id": "4bbb9bdb-d928-44d5-807a-9555aa806013",
   "metadata": {},
   "source": [
    "We regionalize the elementary flows (if the corresponding boolean argument was selected)"
   ]
  },
  {
   "cell_type": "code",
   "execution_count": null,
   "id": "0c55f8e9-82d8-445b-801a-03e00e70dedf",
   "metadata": {},
   "outputs": [],
   "source": [
    "regio.regionalize_elem_flows()"
   ]
  },
  {
   "cell_type": "markdown",
   "id": "146552fe-877e-493d-ab59-19e058b73feb",
   "metadata": {},
   "source": [
    "Write regioinvent processes in the brightway2 SQL database."
   ]
  },
  {
   "cell_type": "code",
   "execution_count": null,
   "id": "6d7c01e4-0617-415d-8d88-41dfff98ae44",
   "metadata": {},
   "outputs": [],
   "source": [
    "regio.write_regioinvent_to_database()"
   ]
  },
  {
   "cell_type": "markdown",
   "id": "61130e9c-202f-43f3-9a56-275298dad6a6",
   "metadata": {},
   "source": [
    "We reconnect ecoinvent processes to existing regioinvent processes, so that, e.g., electricity production, coal, CA uses the consumption market of coal for Canada that was created."
   ]
  },
  {
   "cell_type": "code",
   "execution_count": null,
   "id": "6250150b-29ff-4393-b855-cc29c63114ce",
   "metadata": {},
   "outputs": [],
   "source": [
    "regio.connect_ecoinvent_to_regioinvent()"
   ]
  },
  {
   "cell_type": "markdown",
   "id": "2ed15eb4-8103-4575-9c02-1a0442efe5ec",
   "metadata": {},
   "source": [
    "Done!! You can now go on brightway2 or AB to perform your LCAs normally."
   ]
  },
  {
   "cell_type": "code",
   "execution_count": null,
   "id": "7811afa1-5b19-485f-adad-801fd2e9a4ba",
   "metadata": {},
   "outputs": [],
   "source": []
  }
 ],
 "metadata": {
  "kernelspec": {
   "display_name": "Python 3 (ipykernel)",
   "language": "python",
   "name": "python3"
  },
  "language_info": {
   "codemirror_mode": {
    "name": "ipython",
    "version": 3
   },
   "file_extension": ".py",
   "mimetype": "text/x-python",
   "name": "python",
   "nbconvert_exporter": "python",
   "pygments_lexer": "ipython3",
   "version": "3.11.8"
  }
 },
 "nbformat": 4,
 "nbformat_minor": 5
}
