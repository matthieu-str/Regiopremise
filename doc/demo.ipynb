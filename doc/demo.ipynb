{
 "cells": [
  {
   "cell_type": "markdown",
   "id": "e85848dd-c2ef-4061-88b5-0208ec790985",
   "metadata": {},
   "source": [
    "# How to use regioinvent"
   ]
  },
  {
   "cell_type": "markdown",
   "id": "5202dfd4-410f-4447-8f74-a92af06e6859",
   "metadata": {},
   "source": [
    "Note that running this entire notebook will take you around 2 hours.\n",
    "\n",
    "To be able to use regioinvent, we will need:\n",
    "- to install the brightway2 Python library (brightway2 and NOT brightway2.5), easier is to get it through activity-browser: https://github.com/LCA-ActivityBrowser/activity-browser\n",
    "- a brightway project within which there is an ecoinvent database with either the version 3.9.1/3.10 cutoff\n",
    "- to download the trade database stored here: https://doi.org/10.5281/zenodo.13146833 Make sure to take the \"treated\" database where UN COMTRADE data was refined"
   ]
  },
  {
   "cell_type": "code",
   "execution_count": null,
   "id": "01366db1-cbce-449b-839e-dbcc07ad2a28",
   "metadata": {},
   "outputs": [],
   "source": [
    "import pandas as pd\n",
    "import numpy as np\n",
    "import sys\n",
    "# change the path here to wherever you stored the Regioinvent Python package\n",
    "sys.path.append(r'C:\\Users\\matth\\PycharmProjects\\Regiopremise')\n",
    "import regioinvent"
   ]
  },
  {
   "cell_type": "markdown",
   "id": "7af64753-f347-47c8-a7c6-1566f2a33388",
   "metadata": {},
   "source": [
    "The initialization of the Regioinvent class requires 4 arguments:\n",
    "- the name of the brightway2 project where you store ecoinvent and where regioinvent will be added\n",
    "- the name you gave your ecoinvent database within your brightway2 project\n",
    "- the version of the ecoinvent database ('3.9.1' or '3.10')"
   ]
  },
  {
   "metadata": {},
   "cell_type": "code",
   "outputs": [],
   "execution_count": null,
   "source": "ei_version = '3.10'",
   "id": "f430f9f48fdfd3f6"
  },
  {
   "cell_type": "code",
   "execution_count": null,
   "id": "4e670c3f-94b4-4186-a72e-3948e35c1fac",
   "metadata": {},
   "outputs": [],
   "source": [
    "regio = regioinvent.Regioinvent(\n",
    "    bw_project_name=f'ecoinvent{ei_version}', \n",
    "    ecoinvent_database_name='ecoinvent_cutoff_3.10_image_SSP2-Base_2050+truck_carculator', \n",
    "    ecoinvent_version=ei_version,\n",
    ")"
   ]
  },
  {
   "cell_type": "markdown",
   "id": "2a9ed3cb-d827-4eb8-847c-cd15df807f01",
   "metadata": {},
   "source": [
    "First of regioinvent is to spatialize the original ecoinvent database. This entails multiple steps:\n",
    "- Creating a new biosphere database for spatialized elementary flows (e.g., Ammonia, CA-QC)\n",
    "- Spatializing the elementary flows used within the ecoinvent database, based on the location of the process itself\n",
    "- Fixing water processes of ecoinvent creating imbalances (e.g., apple production in Chile calls irrigation, RoW -> imbalance)\n",
    "- Importing LCIA methods supporting regionalization. Currently available: \"IW v2.1\". Soon available: \"EF v3.1\" and \"ReCiPe2016 v1.1 (E)\"."
   ]
  },
  {
   "cell_type": "code",
   "execution_count": null,
   "id": "f386fd5d-8073-4d0f-a96e-be9151cdbaf0",
   "metadata": {},
   "outputs": [],
   "source": [
    "regio.spatialize_my_ecoinvent()"
   ]
  },
  {
   "cell_type": "markdown",
   "id": "87383a6f-e062-46fb-afec-76eed2dd86cb",
   "metadata": {},
   "source": [
    "This creates two databases in your brightway2 project:\n",
    "- \"biosphere3_spatialized_flows\", which contains all the newly created spatialized elementary flows\n",
    "- \"the-name-of-your-ecoinvent-database regionalized\", which is a copy of the original ecoinvent but using spatialized elementary flows and boasting new processes to fix water modeling"
   ]
  },
  {
   "cell_type": "markdown",
   "id": "c05ffb4b-4f6c-4eae-b6b8-0d25f8ff1560",
   "metadata": {},
   "source": [
    "If you want to go further in the regionalization, i.e., to create new national production processes and to rely on trade data to regionalize consumption markets of ecoinvent, you can run the next function:"
   ]
  },
  {
   "cell_type": "code",
   "execution_count": null,
   "id": "12fe15f4-e3e4-439a-9938-dbffc90ae286",
   "metadata": {},
   "outputs": [],
   "source": [
    "regio.regionalize_ecoinvent_with_trade()"
   ]
  },
  {
   "cell_type": "markdown",
   "id": "62314963-62a7-43c5-8333-4df9f8e5b38c",
   "metadata": {},
   "source": [
    "For more information on what these steps include, refer to the scientific article on regioinvent: _Agez, Maxime (2025) Regioinvent a regionalized version of ecoinvent integrating real trade data, International Journal of Life Cycle Assessment_"
   ]
  },
  {
   "cell_type": "markdown",
   "id": "2ed15eb4-8103-4575-9c02-1a0442efe5ec",
   "metadata": {},
   "source": [
    "You can now go on brightway2 or AB to perform your LCAs normally with regioinvent."
   ]
  },
  {
   "cell_type": "code",
   "execution_count": null,
   "id": "7811afa1-5b19-485f-adad-801fd2e9a4ba",
   "metadata": {},
   "outputs": [],
   "source": []
  }
 ],
 "metadata": {
  "kernelspec": {
   "display_name": "Python 3 (ipykernel)",
   "language": "python",
   "name": "python3"
  },
  "language_info": {
   "codemirror_mode": {
    "name": "ipython",
    "version": 3
   },
   "file_extension": ".py",
   "mimetype": "text/x-python",
   "name": "python",
   "nbconvert_exporter": "python",
   "pygments_lexer": "ipython3",
   "version": "3.11.8"
  }
 },
 "nbformat": 4,
 "nbformat_minor": 5
}
