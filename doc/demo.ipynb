{
 "cells": [
  {
   "cell_type": "markdown",
   "id": "e85848dd-c2ef-4061-88b5-0208ec790985",
   "metadata": {},
   "source": "# How to use Regiopremise"
  },
  {
   "cell_type": "markdown",
   "id": "5202dfd4-410f-4447-8f74-a92af06e6859",
   "metadata": {},
   "source": [
    "Note that running this entire notebook will take you around 2 hours.\n",
    "\n",
    "To be able to use Regiopremise, we will need:\n",
    "- to install the brightway2 Python library (brightway2 and NOT brightway2.5)\n",
    "- a brightway project within which there is an ecoinvent database with the version 3.9.1 cut-off (only supported version so far)\n",
    "- to download the trade database stored here: https://doi.org/10.5281/zenodo.13146833 Make sure to take the \"treated\" database where UN COMTRADE data was refined"
   ]
  },
  {
   "metadata": {
    "ExecuteTime": {
     "end_time": "2024-10-31T21:49:05.731114Z",
     "start_time": "2024-10-31T21:49:05.702273Z"
    }
   },
   "cell_type": "code",
   "source": "path = 'path_to_your_regiopremise_project'",
   "id": "ea08a6aad67a6bd4",
   "outputs": [],
   "execution_count": 1
  },
  {
   "cell_type": "code",
   "id": "01366db1-cbce-449b-839e-dbcc07ad2a28",
   "metadata": {
    "ExecuteTime": {
     "end_time": "2024-10-31T21:49:20.374108Z",
     "start_time": "2024-10-31T21:49:07.416884Z"
    }
   },
   "source": [
    "import pandas as pd\n",
    "import numpy as np\n",
    "import sys\n",
    "sys.path.append(path)\n",
    "import regioinvent"
   ],
   "outputs": [],
   "execution_count": 2
  },
  {
   "metadata": {},
   "cell_type": "markdown",
   "source": "## Creation of a premise database with spatialized biosphere flows",
   "id": "f3e731eb44c29ec3"
  },
  {
   "cell_type": "markdown",
   "id": "7af64753-f347-47c8-a7c6-1566f2a33388",
   "metadata": {},
   "source": [
    "The initialization of the Regioinvent class requires the following arguments:\n",
    "- the path to the trade database\n",
    "- the name you want to to give to the resulting regionalized ecoinvent database created\n",
    "- the name of your brightway2 project\n",
    "- the name of the premise database in your brightway2 project\n",
    "- a boolean if you wish to regionalize elementary flows or not (True by default)\n",
    "- a cutoff value to determine how \"deep\" regionalization should go. 0.99 cutoff leads to a ~185,000 processes database. Should not try to go higher than 0.99, code might bug as processes with new regions might show up, for which no mapping might have been done."
   ]
  },
  {
   "cell_type": "code",
   "id": "60067ead-0ea4-4385-b676-8893c6285288",
   "metadata": {
    "ExecuteTime": {
     "end_time": "2024-10-31T21:57:00.715273Z",
     "start_time": "2024-10-31T21:49:30.138880Z"
    }
   },
   "source": [
    "regio = regioinvent.Regioinvent(\n",
    "    trade_database_path=f'{path}/trade_data_treated.db',\n",
    "    regiopremise_database_name='Regiopremise', # not used while the rest of the notebook is WIP\n",
    "    bw_project_name='ecoinvent3.9.1',\n",
    "    premise_database_name='ecoinvent_cutoff_3.9.1_image_SSP2-Base_2020',\n",
    "    regionalized_elementary_flows=True,\n",
    "    cutoff=0.99\n",
    ")"
   ],
   "outputs": [
    {
     "name": "stderr",
     "output_type": "stream",
     "text": [
      "2024-10-31 17:49:30,330 - Regioinvent - INFO - Extracting ecoinvent to wurst...\n"
     ]
    },
    {
     "name": "stdout",
     "output_type": "stream",
     "text": [
      "Getting activity data\n"
     ]
    },
    {
     "name": "stderr",
     "output_type": "stream",
     "text": [
      "100%|██████████| 32527/32527 [00:00<00:00, 70149.49it/s] \n"
     ]
    },
    {
     "name": "stdout",
     "output_type": "stream",
     "text": [
      "Adding exchange data to activities\n"
     ]
    },
    {
     "name": "stderr",
     "output_type": "stream",
     "text": [
      "100%|██████████| 930582/930582 [00:47<00:00, 19671.32it/s]\n"
     ]
    },
    {
     "name": "stdout",
     "output_type": "stream",
     "text": [
      "Filling out exchange data\n"
     ]
    },
    {
     "name": "stderr",
     "output_type": "stream",
     "text": [
      "100%|██████████| 32527/32527 [00:05<00:00, 5904.93it/s] \n",
      "2024-10-31 17:50:38,748 - Regioinvent - INFO - Regionalizing the biosphere inputs of the original ecoinvent database...\n",
      "Writing activities to SQLite3 database:\n",
      "0% [##############################] 100% | ETA: 00:00:00\n",
      "Total time elapsed: 00:01:07\n"
     ]
    },
    {
     "name": "stdout",
     "output_type": "stream",
     "text": [
      "Title: Writing activities to SQLite3 database:\n",
      "  Started: 10/31/2024 17:51:26\n",
      "  Finished: 10/31/2024 17:52:33\n",
      "  Total time elapsed: 00:01:07\n",
      "  CPU %: 47.50\n",
      "  Memory %: 28.14\n"
     ]
    },
    {
     "ename": "AttributeError",
     "evalue": "`np.NaN` was removed in the NumPy 2.0 release. Use `np.nan` instead.",
     "output_type": "error",
     "traceback": [
      "\u001B[1;31m---------------------------------------------------------------------------\u001B[0m",
      "\u001B[1;31mAttributeError\u001B[0m                            Traceback (most recent call last)",
      "Cell \u001B[1;32mIn[3], line 1\u001B[0m\n\u001B[1;32m----> 1\u001B[0m regio \u001B[38;5;241m=\u001B[39m \u001B[43mregioinvent\u001B[49m\u001B[38;5;241;43m.\u001B[39;49m\u001B[43mRegioinvent\u001B[49m\u001B[43m(\u001B[49m\n\u001B[0;32m      2\u001B[0m \u001B[43m    \u001B[49m\u001B[43mtrade_database_path\u001B[49m\u001B[38;5;241;43m=\u001B[39;49m\u001B[38;5;124;43mf\u001B[39;49m\u001B[38;5;124;43m'\u001B[39;49m\u001B[38;5;132;43;01m{\u001B[39;49;00m\u001B[43mpath\u001B[49m\u001B[38;5;132;43;01m}\u001B[39;49;00m\u001B[38;5;124;43m/trade_data_treated.db\u001B[39;49m\u001B[38;5;124;43m'\u001B[39;49m\u001B[43m,\u001B[49m\n\u001B[0;32m      3\u001B[0m \u001B[43m    \u001B[49m\u001B[43mregiopremise_database_name\u001B[49m\u001B[38;5;241;43m=\u001B[39;49m\u001B[38;5;124;43m'\u001B[39;49m\u001B[38;5;124;43mRegiopremise\u001B[39;49m\u001B[38;5;124;43m'\u001B[39;49m\u001B[43m,\u001B[49m\u001B[43m \u001B[49m\u001B[38;5;66;43;03m# not used while the rest of the notebook is WIP\u001B[39;49;00m\n\u001B[0;32m      4\u001B[0m \u001B[43m    \u001B[49m\u001B[43mbw_project_name\u001B[49m\u001B[38;5;241;43m=\u001B[39;49m\u001B[38;5;124;43m'\u001B[39;49m\u001B[38;5;124;43mecoinvent3.9.1A\u001B[39;49m\u001B[38;5;124;43m'\u001B[39;49m\u001B[43m,\u001B[49m\n\u001B[0;32m      5\u001B[0m \u001B[43m    \u001B[49m\u001B[43mpremise_database_name\u001B[49m\u001B[38;5;241;43m=\u001B[39;49m\u001B[38;5;124;43m'\u001B[39;49m\u001B[38;5;124;43mecoinvent_cutoff_3.9.1_image_SSP2-Base_2020\u001B[39;49m\u001B[38;5;124;43m'\u001B[39;49m\u001B[43m,\u001B[49m\n\u001B[0;32m      6\u001B[0m \u001B[43m    \u001B[49m\u001B[43mregionalized_elementary_flows\u001B[49m\u001B[38;5;241;43m=\u001B[39;49m\u001B[38;5;28;43;01mTrue\u001B[39;49;00m\u001B[43m,\u001B[49m\n\u001B[0;32m      7\u001B[0m \u001B[43m    \u001B[49m\u001B[43mcutoff\u001B[49m\u001B[38;5;241;43m=\u001B[39;49m\u001B[38;5;241;43m0.99\u001B[39;49m\n\u001B[0;32m      8\u001B[0m \u001B[43m)\u001B[49m\n",
      "File \u001B[1;32m~\\PycharmProjects\\Regiopremise\\regioinvent.py:177\u001B[0m, in \u001B[0;36mRegioinvent.__init__\u001B[1;34m(self, trade_database_path, regiopremise_database_name, bw_project_name, premise_database_name, regionalized_elementary_flows, cutoff)\u001B[0m\n\u001B[0;32m    175\u001B[0m     \u001B[38;5;28mself\u001B[39m\u001B[38;5;241m.\u001B[39mei_wurst \u001B[38;5;241m=\u001B[39m wurst\u001B[38;5;241m.\u001B[39mextract_brightway2_databases(\u001B[38;5;28mself\u001B[39m\u001B[38;5;241m.\u001B[39mecoinvent_database_name, add_identifiers\u001B[38;5;241m=\u001B[39m\u001B[38;5;28;01mTrue\u001B[39;00m)\n\u001B[0;32m    176\u001B[0m     \u001B[38;5;28mself\u001B[39m\u001B[38;5;241m.\u001B[39mei_in_dict \u001B[38;5;241m=\u001B[39m {(i[\u001B[38;5;124m'\u001B[39m\u001B[38;5;124mreference product\u001B[39m\u001B[38;5;124m'\u001B[39m], i[\u001B[38;5;124m'\u001B[39m\u001B[38;5;124mlocation\u001B[39m\u001B[38;5;124m'\u001B[39m], i[\u001B[38;5;124m'\u001B[39m\u001B[38;5;124mname\u001B[39m\u001B[38;5;124m'\u001B[39m]): i \u001B[38;5;28;01mfor\u001B[39;00m i \u001B[38;5;129;01min\u001B[39;00m \u001B[38;5;28mself\u001B[39m\u001B[38;5;241m.\u001B[39mei_wurst}\n\u001B[1;32m--> 177\u001B[0m     \u001B[38;5;28;43mself\u001B[39;49m\u001B[38;5;241;43m.\u001B[39;49m\u001B[43mcreate_ecoinvent_with_regionalized_biosphere_flows\u001B[49m\u001B[43m(\u001B[49m\u001B[43m)\u001B[49m\n\u001B[0;32m    178\u001B[0m \u001B[38;5;28;01melif\u001B[39;00m \u001B[38;5;28mself\u001B[39m\u001B[38;5;241m.\u001B[39mname_ei_with_regionalized_biosphere \u001B[38;5;129;01min\u001B[39;00m bw2\u001B[38;5;241m.\u001B[39mdatabases:\n\u001B[0;32m    179\u001B[0m     \u001B[38;5;28mself\u001B[39m\u001B[38;5;241m.\u001B[39mlogger\u001B[38;5;241m.\u001B[39minfo(\u001B[38;5;124m\"\u001B[39m\u001B[38;5;124mExtracting ecoinvent to wurst...\u001B[39m\u001B[38;5;124m\"\u001B[39m)\n",
      "File \u001B[1;32m~\\PycharmProjects\\Regiopremise\\regioinvent.py:312\u001B[0m, in \u001B[0;36mRegioinvent.create_ecoinvent_with_regionalized_biosphere_flows\u001B[1;34m(self)\u001B[0m\n\u001B[0;32m    309\u001B[0m         \u001B[38;5;28;01mpass\u001B[39;00m\n\u001B[0;32m    311\u001B[0m \u001B[38;5;66;03m# write ecoinvent-regionalized database\u001B[39;00m\n\u001B[1;32m--> 312\u001B[0m \u001B[43mbw2\u001B[49m\u001B[38;5;241;43m.\u001B[39;49m\u001B[43mDatabase\u001B[49m\u001B[43m(\u001B[49m\u001B[38;5;28;43mself\u001B[39;49m\u001B[38;5;241;43m.\u001B[39;49m\u001B[43mname_ei_with_regionalized_biosphere\u001B[49m\u001B[43m)\u001B[49m\u001B[38;5;241;43m.\u001B[39;49m\u001B[43mwrite\u001B[49m\u001B[43m(\u001B[49m\u001B[38;5;28;43mself\u001B[39;49m\u001B[38;5;241;43m.\u001B[39;49m\u001B[43mei_regio_data\u001B[49m\u001B[43m)\u001B[49m\n",
      "File \u001B[1;32m~\\PycharmProjects\\Regiopremise\\.venv\\Lib\\site-packages\\bw2data\\project.py:358\u001B[0m, in \u001B[0;36mwritable_project\u001B[1;34m(wrapped, instance, args, kwargs)\u001B[0m\n\u001B[0;32m    356\u001B[0m \u001B[38;5;28;01mif\u001B[39;00m projects\u001B[38;5;241m.\u001B[39mread_only:\n\u001B[0;32m    357\u001B[0m     \u001B[38;5;28;01mraise\u001B[39;00m ReadOnlyProject(READ_ONLY_PROJECT)\n\u001B[1;32m--> 358\u001B[0m \u001B[38;5;28;01mreturn\u001B[39;00m \u001B[43mwrapped\u001B[49m\u001B[43m(\u001B[49m\u001B[38;5;241;43m*\u001B[39;49m\u001B[43margs\u001B[49m\u001B[43m,\u001B[49m\u001B[43m \u001B[49m\u001B[38;5;241;43m*\u001B[39;49m\u001B[38;5;241;43m*\u001B[39;49m\u001B[43mkwargs\u001B[49m\u001B[43m)\u001B[49m\n",
      "File \u001B[1;32m~\\PycharmProjects\\Regiopremise\\.venv\\Lib\\site-packages\\bw2data\\backends\\peewee\\database.py:269\u001B[0m, in \u001B[0;36mSQLiteBackend.write\u001B[1;34m(self, data, process)\u001B[0m\n\u001B[0;32m    266\u001B[0m \u001B[38;5;28mself\u001B[39m\u001B[38;5;241m.\u001B[39mmake_searchable(reset\u001B[38;5;241m=\u001B[39m\u001B[38;5;28;01mTrue\u001B[39;00m)\n\u001B[0;32m    268\u001B[0m \u001B[38;5;28;01mif\u001B[39;00m process:\n\u001B[1;32m--> 269\u001B[0m     \u001B[38;5;28;43mself\u001B[39;49m\u001B[38;5;241;43m.\u001B[39;49m\u001B[43mprocess\u001B[49m\u001B[43m(\u001B[49m\u001B[43m)\u001B[49m\n",
      "File \u001B[1;32m~\\PycharmProjects\\Regiopremise\\.venv\\Lib\\site-packages\\bw2data\\backends\\peewee\\database.py:398\u001B[0m, in \u001B[0;36mSQLiteBackend.process\u001B[1;34m(self)\u001B[0m\n\u001B[0;32m    384\u001B[0m         \u001B[38;5;28;01mreturn\u001B[39;00m value\n\u001B[0;32m    386\u001B[0m \u001B[38;5;28;01mfor\u001B[39;00m index, row \u001B[38;5;129;01min\u001B[39;00m \u001B[38;5;28menumerate\u001B[39m(ActivityDataset\u001B[38;5;241m.\u001B[39mselect(\n\u001B[0;32m    387\u001B[0m         ActivityDataset\u001B[38;5;241m.\u001B[39mlocation,\n\u001B[0;32m    388\u001B[0m         ActivityDataset\u001B[38;5;241m.\u001B[39mcode\n\u001B[1;32m   (...)\u001B[0m\n\u001B[0;32m    391\u001B[0m         ActivityDataset\u001B[38;5;241m.\u001B[39mtype \u001B[38;5;241m==\u001B[39m \u001B[38;5;124m\"\u001B[39m\u001B[38;5;124mprocess\u001B[39m\u001B[38;5;124m\"\u001B[39m\n\u001B[0;32m    392\u001B[0m         )\u001B[38;5;241m.\u001B[39morder_by(ActivityDataset\u001B[38;5;241m.\u001B[39mcode)\u001B[38;5;241m.\u001B[39mdicts()):\n\u001B[0;32m    394\u001B[0m     arr[index] \u001B[38;5;241m=\u001B[39m (\n\u001B[0;32m    395\u001B[0m         mapping[(\u001B[38;5;28mself\u001B[39m\u001B[38;5;241m.\u001B[39mname, row[\u001B[38;5;124m'\u001B[39m\u001B[38;5;124mcode\u001B[39m\u001B[38;5;124m'\u001B[39m])],\n\u001B[0;32m    396\u001B[0m         geomapping[retupleize(row[\u001B[38;5;124m'\u001B[39m\u001B[38;5;124mlocation\u001B[39m\u001B[38;5;124m'\u001B[39m]) \u001B[38;5;129;01mor\u001B[39;00m config\u001B[38;5;241m.\u001B[39mglobal_location],\n\u001B[0;32m    397\u001B[0m         MAX_INT_32, MAX_INT_32,\n\u001B[1;32m--> 398\u001B[0m         \u001B[38;5;241m0\u001B[39m, \u001B[38;5;241m1\u001B[39m, \u001B[43mnp\u001B[49m\u001B[38;5;241;43m.\u001B[39;49m\u001B[43mNaN\u001B[49m, np\u001B[38;5;241m.\u001B[39mNaN, np\u001B[38;5;241m.\u001B[39mNaN, np\u001B[38;5;241m.\u001B[39mNaN, np\u001B[38;5;241m.\u001B[39mNaN, \u001B[38;5;28;01mFalse\u001B[39;00m\n\u001B[0;32m    399\u001B[0m     )\n\u001B[0;32m    401\u001B[0m arr\u001B[38;5;241m.\u001B[39msort(order\u001B[38;5;241m=\u001B[39m\u001B[38;5;28mself\u001B[39m\u001B[38;5;241m.\u001B[39mdtype_field_order(\n\u001B[0;32m    402\u001B[0m     \u001B[38;5;28mself\u001B[39m\u001B[38;5;241m.\u001B[39mdtype_fields_geomapping \u001B[38;5;241m+\u001B[39m \u001B[38;5;28mself\u001B[39m\u001B[38;5;241m.\u001B[39mbase_uncertainty_fields\n\u001B[0;32m    403\u001B[0m ))\n\u001B[0;32m    404\u001B[0m np\u001B[38;5;241m.\u001B[39msave(\u001B[38;5;28mself\u001B[39m\u001B[38;5;241m.\u001B[39mfilepath_geomapping(), arr, allow_pickle\u001B[38;5;241m=\u001B[39m\u001B[38;5;28;01mFalse\u001B[39;00m)\n",
      "File \u001B[1;32m~\\PycharmProjects\\Regiopremise\\.venv\\Lib\\site-packages\\numpy\\__init__.py:414\u001B[0m, in \u001B[0;36m__getattr__\u001B[1;34m(attr)\u001B[0m\n\u001B[0;32m    411\u001B[0m     \u001B[38;5;28;01mraise\u001B[39;00m \u001B[38;5;167;01mAttributeError\u001B[39;00m(__former_attrs__[attr], name\u001B[38;5;241m=\u001B[39m\u001B[38;5;28;01mNone\u001B[39;00m)\n\u001B[0;32m    413\u001B[0m \u001B[38;5;28;01mif\u001B[39;00m attr \u001B[38;5;129;01min\u001B[39;00m __expired_attributes__:\n\u001B[1;32m--> 414\u001B[0m     \u001B[38;5;28;01mraise\u001B[39;00m \u001B[38;5;167;01mAttributeError\u001B[39;00m(\n\u001B[0;32m    415\u001B[0m         \u001B[38;5;124mf\u001B[39m\u001B[38;5;124m\"\u001B[39m\u001B[38;5;124m`np.\u001B[39m\u001B[38;5;132;01m{\u001B[39;00mattr\u001B[38;5;132;01m}\u001B[39;00m\u001B[38;5;124m` was removed in the NumPy 2.0 release. \u001B[39m\u001B[38;5;124m\"\u001B[39m\n\u001B[0;32m    416\u001B[0m         \u001B[38;5;124mf\u001B[39m\u001B[38;5;124m\"\u001B[39m\u001B[38;5;132;01m{\u001B[39;00m__expired_attributes__[attr]\u001B[38;5;132;01m}\u001B[39;00m\u001B[38;5;124m\"\u001B[39m,\n\u001B[0;32m    417\u001B[0m         name\u001B[38;5;241m=\u001B[39m\u001B[38;5;28;01mNone\u001B[39;00m\n\u001B[0;32m    418\u001B[0m     )\n\u001B[0;32m    420\u001B[0m \u001B[38;5;28;01mif\u001B[39;00m attr \u001B[38;5;241m==\u001B[39m \u001B[38;5;124m\"\u001B[39m\u001B[38;5;124mchararray\u001B[39m\u001B[38;5;124m\"\u001B[39m:\n\u001B[0;32m    421\u001B[0m     warnings\u001B[38;5;241m.\u001B[39mwarn(\n\u001B[0;32m    422\u001B[0m         \u001B[38;5;124m\"\u001B[39m\u001B[38;5;124m`np.chararray` is deprecated and will be removed from \u001B[39m\u001B[38;5;124m\"\u001B[39m\n\u001B[0;32m    423\u001B[0m         \u001B[38;5;124m\"\u001B[39m\u001B[38;5;124mthe main namespace in the future. Use an array with a string \u001B[39m\u001B[38;5;124m\"\u001B[39m\n\u001B[0;32m    424\u001B[0m         \u001B[38;5;124m\"\u001B[39m\u001B[38;5;124mor bytes dtype instead.\u001B[39m\u001B[38;5;124m\"\u001B[39m, \u001B[38;5;167;01mDeprecationWarning\u001B[39;00m, stacklevel\u001B[38;5;241m=\u001B[39m\u001B[38;5;241m2\u001B[39m)\n",
      "\u001B[1;31mAttributeError\u001B[0m: `np.NaN` was removed in the NumPy 2.0 release. Use `np.nan` instead."
     ]
    }
   ],
   "execution_count": 3
  },
  {
   "cell_type": "markdown",
   "id": "c4075258-017c-4d62-b9e2-6d5a5002b63e",
   "metadata": {},
   "source": [
    "The initialization will first import everything related to regionalized elementary flows (if regionalized_elementary_flows=True), thus creating two new databases: a regionalized biosphere3 and a regionalized version of ecoinvent, as well as importing the regionalized version of the IMPACT World+ LCIA methodology. <br> The created regionalized version of ecoinvent also accounts for the creation of new water technosphere flows to correct inconsistencies in ecoinvent processes using water technosphere flows. <br>\n",
    "It will then use the ```wurst``` Python library to extract your ecoinvent database from brightway into a list of dictionnary format which tremendously speed up operations made to the database."
   ]
  },
  {
   "metadata": {},
   "cell_type": "markdown",
   "source": "## WIP: the rest of the notebook still requires adaptation to premise",
   "id": "642a9e9599249776"
  },
  {
   "cell_type": "markdown",
   "id": "2a9ed3cb-d827-4eb8-847c-cd15df807f01",
   "metadata": {},
   "source": [
    "Next, we extract and format the export data from the trade database"
   ]
  },
  {
   "cell_type": "code",
   "execution_count": null,
   "id": "f386fd5d-8073-4d0f-a96e-be9151cdbaf0",
   "metadata": {},
   "outputs": [],
   "source": [
    "regio.format_export_data()"
   ]
  },
  {
   "cell_type": "markdown",
   "id": "c05ffb4b-4f6c-4eae-b6b8-0d25f8ff1560",
   "metadata": {},
   "source": [
    "We estimate the domestic production data based on the ratio of domestic vs export of the EXIOBASEv3.8.2 database 2019. This ratio is applied to self.export_data."
   ]
  },
  {
   "cell_type": "code",
   "execution_count": null,
   "id": "12fe15f4-e3e4-439a-9938-dbffc90ae286",
   "metadata": {},
   "outputs": [],
   "source": [
    "regio.estimate_domestic_production()"
   ]
  },
  {
   "cell_type": "markdown",
   "id": "62314963-62a7-43c5-8333-4df9f8e5b38c",
   "metadata": {},
   "source": [
    "We apply first order regionalization, that is for the 1870 traded products of the ecoinvent3.9.1 cut-off database, we determine the exporters of each product (through self.export_data) and then regionalize the following key inputs:\n",
    "- electricity\n",
    "- municipal solid waste\n",
    "- heat"
   ]
  },
  {
   "cell_type": "code",
   "execution_count": null,
   "id": "23e61d08-ef9c-45d7-9344-085b6451d166",
   "metadata": {},
   "outputs": [],
   "source": [
    "regio.first_order_regionalization()"
   ]
  },
  {
   "cell_type": "markdown",
   "id": "95ab170f-898e-45b0-8318-04408e6a3ebc",
   "metadata": {},
   "source": [
    "We then extract and format the import data from the trade database. The import data is combined with the domestic production to get total consumption data per product per country"
   ]
  },
  {
   "cell_type": "code",
   "execution_count": null,
   "id": "3ccaab1b-c5d3-49ae-adcb-9cce79bd690e",
   "metadata": {},
   "outputs": [],
   "source": [
    "regio.format_import_data()"
   ]
  },
  {
   "cell_type": "markdown",
   "id": "4b1058d2-7b1a-45cb-a24a-2ea5f0536767",
   "metadata": {},
   "source": [
    "We determine consumption markets for each of the 1870 products."
   ]
  },
  {
   "cell_type": "code",
   "execution_count": null,
   "id": "331cdfdb-55fb-4699-88f6-69ff91c0d418",
   "metadata": {},
   "outputs": [],
   "source": [
    "regio.create_consumption_markets()"
   ]
  },
  {
   "cell_type": "markdown",
   "id": "58d0db05-5063-41fe-a508-05fdebcb7605",
   "metadata": {},
   "source": [
    "We relink created consumption markets to regionalized processes across the regioinvent database."
   ]
  },
  {
   "cell_type": "code",
   "execution_count": null,
   "id": "ac673633-98b0-4070-b94d-03a659a806b6",
   "metadata": {},
   "outputs": [],
   "source": [
    "regio.second_order_regionalization()"
   ]
  },
  {
   "cell_type": "markdown",
   "id": "4bbb9bdb-d928-44d5-807a-9555aa806013",
   "metadata": {},
   "source": [
    "We regionalize the elementary flows (if the corresponding boolean argument was selected)"
   ]
  },
  {
   "cell_type": "code",
   "execution_count": null,
   "id": "0c55f8e9-82d8-445b-801a-03e00e70dedf",
   "metadata": {},
   "outputs": [],
   "source": [
    "regio.regionalize_elem_flows()"
   ]
  },
  {
   "cell_type": "markdown",
   "id": "146552fe-877e-493d-ab59-19e058b73feb",
   "metadata": {},
   "source": [
    "Write regioinvent processes in the brightway2 SQL database."
   ]
  },
  {
   "cell_type": "code",
   "execution_count": null,
   "id": "6d7c01e4-0617-415d-8d88-41dfff98ae44",
   "metadata": {},
   "outputs": [],
   "source": [
    "regio.write_regioinvent_to_database()"
   ]
  },
  {
   "cell_type": "markdown",
   "id": "61130e9c-202f-43f3-9a56-275298dad6a6",
   "metadata": {},
   "source": [
    "We reconnect ecoinvent processes to existing regioinvent processes, so that, e.g., electricity production, coal, CA uses the consumption market of coal for Canada that was created."
   ]
  },
  {
   "cell_type": "code",
   "execution_count": null,
   "id": "6250150b-29ff-4393-b855-cc29c63114ce",
   "metadata": {},
   "outputs": [],
   "source": [
    "regio.connect_ecoinvent_to_regioinvent()"
   ]
  },
  {
   "cell_type": "markdown",
   "id": "2ed15eb4-8103-4575-9c02-1a0442efe5ec",
   "metadata": {},
   "source": [
    "Done!! You can now go on brightway2 or AB to perform your LCAs normally."
   ]
  },
  {
   "cell_type": "code",
   "execution_count": null,
   "id": "7811afa1-5b19-485f-adad-801fd2e9a4ba",
   "metadata": {},
   "outputs": [],
   "source": []
  }
 ],
 "metadata": {
  "kernelspec": {
   "display_name": "Python 3 (ipykernel)",
   "language": "python",
   "name": "python3"
  },
  "language_info": {
   "codemirror_mode": {
    "name": "ipython",
    "version": 3
   },
   "file_extension": ".py",
   "mimetype": "text/x-python",
   "name": "python",
   "nbconvert_exporter": "python",
   "pygments_lexer": "ipython3",
   "version": "3.11.8"
  }
 },
 "nbformat": 4,
 "nbformat_minor": 5
}
