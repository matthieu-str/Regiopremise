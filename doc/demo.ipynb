{
 "cells": [
  {
   "cell_type": "markdown",
   "id": "e85848dd-c2ef-4061-88b5-0208ec790985",
   "metadata": {},
   "source": "# How to use regioinvent with premise"
  },
  {
   "metadata": {},
   "cell_type": "markdown",
   "source": [
    "Note that running this entire notebook will take you around 2 to 3 hours if you choose the highest cutoff option.\n",
    "\n",
    "To be able to use regioinvent, you will need:\n",
    "- to install the brightway2 Python library (brightway2 and NOT brightway2.5), easier is to get it through activity-browser: https://github.com/LCA-ActivityBrowser/activity-browser\n",
    "- a brightway project within which there is an ecoinvent database with either the version 3.9/3.9.1/3.10/3.10 cutoff\n",
    "- to download the trade database stored here: https://doi.org/10.5281/zenodo.11583814"
   ],
   "id": "412f74f990e6b960"
  },
  {
   "metadata": {
    "ExecuteTime": {
     "end_time": "2025-07-15T21:01:17.591938Z",
     "start_time": "2025-07-15T21:01:12.119737Z"
    }
   },
   "cell_type": "code",
   "source": [
    "import pandas as pd\n",
    "import numpy as np\n",
    "import sys\n",
    "# change the path here to wherever you stored the Regiopremise Python package\n",
    "sys.path.append(r'C:\\Users\\matth\\PycharmProjects\\Regiopremise\\src')\n",
    "import regioinvent"
   ],
   "id": "a50f600eb82ef557",
   "outputs": [],
   "execution_count": 1
  },
  {
   "metadata": {},
   "cell_type": "markdown",
   "source": [
    "The initialization of the Regioinvent class requires 3 arguments:\n",
    "- the name of the brightway2 project where you store ecoinvent and where regioinvent will be added\n",
    "- the name you gave your ecoinvent database within your brightway2 project\n",
    "- the version of the ecoinvent database ('3.9', '3.9.1', '3.10' or '3.10.1')"
   ],
   "id": "7575ff84618caf28"
  },
  {
   "metadata": {
    "ExecuteTime": {
     "end_time": "2025-07-15T21:01:17.604733Z",
     "start_time": "2025-07-15T21:01:17.598981Z"
    }
   },
   "cell_type": "code",
   "source": [
    "ei_version = '3.10.1'\n",
    "year = '2050'"
   ],
   "id": "a41b66531bc34942",
   "outputs": [],
   "execution_count": 2
  },
  {
   "metadata": {
    "ExecuteTime": {
     "end_time": "2025-07-15T21:01:18.122705Z",
     "start_time": "2025-07-15T21:01:17.839536Z"
    }
   },
   "cell_type": "code",
   "source": [
    "regio = regioinvent.Regiopremise(\n",
    "    bw_project_name='premise training',\n",
    "    premise_database_name='ei_cutoff_3.10_image_SSP2-RCP19_2050 2025-04-09',\n",
    "    ecoinvent_database_name=f'ecoinvent-{ei_version}-cutoff',\n",
    "    ecoinvent_version=ei_version,\n",
    ")"
   ],
   "id": "449ca0360e2a263e",
   "outputs": [],
   "execution_count": 3
  },
  {
   "metadata": {
    "ExecuteTime": {
     "end_time": "2025-07-15T20:42:43.398177800Z",
     "start_time": "2025-07-15T15:40:20.785664Z"
    }
   },
   "cell_type": "code",
   "source": "regio.fix_iam_location_codes()",
   "id": "34ac462b4f0b25c4",
   "outputs": [],
   "execution_count": 4
  },
  {
   "metadata": {},
   "cell_type": "markdown",
   "source": [
    "First step of regioinvent is to spatialize the original premise database. This entails two steps:\n",
    "- Creating a new biosphere database for spatialized elementary flows (e.g., Ammonia, CA-QC)\n",
    "- Spatializing the elementary flows used within the premise database, based on the location of the process itself"
   ],
   "id": "374381ab2aaeee45"
  },
  {
   "metadata": {
    "ExecuteTime": {
     "end_time": "2025-07-15T17:47:54.014897Z",
     "start_time": "2025-07-15T17:35:21.970432Z"
    }
   },
   "cell_type": "code",
   "source": "regio.spatialize_my_premise()",
   "id": "67be8fc8d89d8cf2",
   "outputs": [
    {
     "name": "stderr",
     "output_type": "stream",
     "text": [
      "2025-07-15 13:35:21,972 - Regiopremise - INFO - biosphere3_spatialized_flows already exists in this project.\n",
      "2025-07-15 13:35:21,974 - Regiopremise - INFO - Extracting premise to wurst...\n"
     ]
    },
    {
     "name": "stdout",
     "output_type": "stream",
     "text": [
      "Getting activity data\n"
     ]
    },
    {
     "name": "stderr",
     "output_type": "stream",
     "text": [
      "100%|██████████| 34848/34848 [00:00<00:00, 89914.38it/s] \n"
     ]
    },
    {
     "name": "stdout",
     "output_type": "stream",
     "text": [
      "Adding exchange data to activities\n"
     ]
    },
    {
     "name": "stderr",
     "output_type": "stream",
     "text": [
      "100%|██████████| 1004312/1004312 [00:36<00:00, 27561.23it/s]\n"
     ]
    },
    {
     "name": "stdout",
     "output_type": "stream",
     "text": [
      "Filling out exchange data\n"
     ]
    },
    {
     "name": "stderr",
     "output_type": "stream",
     "text": [
      "100%|██████████| 34848/34848 [00:02<00:00, 13440.59it/s]\n",
      "2025-07-15 13:36:11,839 - Regiopremise - INFO - Spatializing premise...\n",
      "Writing activities to SQLite3 database:\n",
      "0% [##############################] 100% | ETA: 00:00:00\n",
      "Total time elapsed: 00:01:18\n"
     ]
    },
    {
     "name": "stdout",
     "output_type": "stream",
     "text": [
      "Title: Writing activities to SQLite3 database:\n",
      "  Started: 07/15/2025 13:37:15\n",
      "  Finished: 07/15/2025 13:38:34\n",
      "  Total time elapsed: 00:01:18\n",
      "  CPU %: 87.20\n",
      "  Memory %: 24.37\n"
     ]
    }
   ],
   "execution_count": 4
  },
  {
   "metadata": {},
   "cell_type": "markdown",
   "source": [
    "This creates two databases in your brightway2 project:\n",
    "- \"_biosphere3_spatialized_flows_\", which contains all the newly created spatialized elementary flows\n",
    "- \"the-name-of-your-premise-database regionalized\", which is a copy of the original premise database but using spatialized elementary flows. You thus end up with two ecoinvent versions: the original one and a spatialized one."
   ],
   "id": "e3a2a7b6b22360cf"
  },
  {
   "metadata": {},
   "cell_type": "markdown",
   "source": "Because elementary flows are now spatialized, you will need a specific LCIA method to operate with any flow (spatialized or not). The following function imports such methods. Currently available: \"IW v2.1\", \"EF v3.1\", \"ReCiPe 2016 v1.03 (H)\". Can also import all of them in one go.",
   "id": "7a6f2ed41ac7e7b3"
  },
  {
   "metadata": {
    "ExecuteTime": {
     "end_time": "2025-07-15T17:48:47.384065Z",
     "start_time": "2025-07-15T17:47:54.459605Z"
    }
   },
   "cell_type": "code",
   "source": "regio.import_fully_regionalized_impact_method(lcia_method='IW v2.1')",
   "id": "786ccbff23cdc23e",
   "outputs": [
    {
     "name": "stderr",
     "output_type": "stream",
     "text": [
      "2025-07-15 13:47:54,473 - Regiopremise - INFO - Importing the fully regionalized version of IMPACT World+ v2.1 for ecoinvent3.10.\n"
     ]
    }
   ],
   "execution_count": 5
  },
  {
   "metadata": {},
   "cell_type": "markdown",
   "source": [
    "If you want to go further in the regionalization, i.e., to create new national production processes and to rely on trade data to create regionalized consumption markets of premise, you can run the next function. There are 3 arguments:\n",
    "- _trade_database_path_ which is the path where you stored the trade database you downloaded from Zenodo: https://doi.org/10.5281/zenodo.11583814\n",
    "- _regioinvent_database_name_ which is simply the name that the created database will take\n",
    "- _cutoff_ which is the cut-off (between 0 and 1) beyond which countries will be aggregated as RoW. For more info on what cutoff does, see section \"Selection of countries for regionalization\" of the Methodology.md file."
   ],
   "id": "88b32a5194c3744"
  },
  {
   "metadata": {
    "jupyter": {
     "is_executing": true
    },
    "ExecuteTime": {
     "start_time": "2025-07-15T21:01:21.742395Z"
    }
   },
   "cell_type": "code",
   "source": [
    "regio.regionalize_premise_with_trade(\n",
    "    trade_database_path=r'C:\\Users\\matth\\PycharmProjects\\Regiopremise\\trade_data.db',\n",
    "    regioinvent_database_name='regioinvent',\n",
    "    cutoff=0.75,\n",
    ")"
   ],
   "id": "4232f6770beb7c9c",
   "outputs": [
    {
     "name": "stdout",
     "output_type": "stream",
     "text": [
      "Getting activity data\n"
     ]
    },
    {
     "name": "stderr",
     "output_type": "stream",
     "text": [
      "100%|██████████| 34848/34848 [00:00<00:00, 128265.01it/s]\n"
     ]
    },
    {
     "name": "stdout",
     "output_type": "stream",
     "text": [
      "Adding exchange data to activities\n"
     ]
    },
    {
     "name": "stderr",
     "output_type": "stream",
     "text": [
      "100%|██████████| 1004312/1004312 [00:49<00:00, 20291.14it/s]\n"
     ]
    },
    {
     "name": "stdout",
     "output_type": "stream",
     "text": [
      "Filling out exchange data\n"
     ]
    },
    {
     "name": "stderr",
     "output_type": "stream",
     "text": [
      "100%|██████████| 34848/34848 [00:08<00:00, 4299.02it/s]\n",
      "2025-07-15 17:02:24,643 - Regiopremise - INFO - Extracting and formatting trade data...\n",
      "2025-07-15 17:02:44,772 - Regiopremise - INFO - Regionalizing main inputs of internationally-traded products of premise...\n",
      " 49%|████▉     | 967/1982 [02:28<01:39, 10.25it/s]"
     ]
    }
   ],
   "execution_count": null
  },
  {
   "cell_type": "markdown",
   "id": "2ed15eb4-8103-4575-9c02-1a0442efe5ec",
   "metadata": {},
   "source": [
    "This automatically wrote the regioinvent database in your brightway project. So you can now go on brightway2 or AB to perform your LCAs normally with regioinvent."
   ]
  },
  {
   "metadata": {},
   "cell_type": "markdown",
   "source": "## Debugging",
   "id": "fa9b214a0951252c"
  },
  {
   "metadata": {},
   "cell_type": "code",
   "outputs": [],
   "execution_count": null,
   "source": "",
   "id": "cfb5aaec827a4f86"
  }
 ],
 "metadata": {
  "kernelspec": {
   "display_name": "Python 3 (ipykernel)",
   "language": "python",
   "name": "python3"
  },
  "language_info": {
   "codemirror_mode": {
    "name": "ipython",
    "version": 3
   },
   "file_extension": ".py",
   "mimetype": "text/x-python",
   "name": "python",
   "nbconvert_exporter": "python",
   "pygments_lexer": "ipython3",
   "version": "3.11.8"
  }
 },
 "nbformat": 4,
 "nbformat_minor": 5
}
