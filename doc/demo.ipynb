{
 "cells": [
  {
   "cell_type": "markdown",
   "id": "e85848dd-c2ef-4061-88b5-0208ec790985",
   "metadata": {},
   "source": [
    "# How to use regioinvent"
   ]
  },
  {
   "cell_type": "markdown",
   "id": "5202dfd4-410f-4447-8f74-a92af06e6859",
   "metadata": {},
   "source": [
    "Note that running this entire notebook will take you around 2 to 3 hours.\n",
    "\n",
    "To be able to use regioinvent, you will need:\n",
    "- to install the brightway2 Python library (brightway2 and NOT brightway2.5), easier is to get it through activity-browser: https://github.com/LCA-ActivityBrowser/activity-browser\n",
    "- a brightway project within which there is an ecoinvent database with either the version 3.9.1/3.10 cutoff\n",
    "- to download the trade database stored here: https://doi.org/10.5281/zenodo.11583814"
   ]
  },
  {
   "metadata": {
    "ExecuteTime": {
     "end_time": "2025-02-07T18:45:17.515202Z",
     "start_time": "2025-02-07T18:44:58.240793Z"
    }
   },
   "cell_type": "code",
   "source": [
    "import pandas as pd\n",
    "import numpy as np\n",
    "import sys\n",
    "# change the path here to wherever you stored the Regioinvent Python package\n",
    "sys.path.append(r'C:\\Users\\matth\\PycharmProjects\\Regiopremise')\n",
    "import regioinvent"
   ],
   "id": "01366db1-cbce-449b-839e-dbcc07ad2a28",
   "outputs": [],
   "execution_count": 2
  },
  {
   "cell_type": "markdown",
   "id": "7af64753-f347-47c8-a7c6-1566f2a33388",
   "metadata": {},
   "source": [
    "The initialization of the Regioinvent class requires 3 arguments:\n",
    "- the name of the brightway2 project where you store ecoinvent and where regioinvent will be added\n",
    "- the name you gave your ecoinvent database within your brightway2 project\n",
    "- the version of the ecoinvent database ('3.9.1' or '3.10')"
   ]
  },
  {
   "metadata": {
    "ExecuteTime": {
     "end_time": "2025-02-07T18:45:17.776832Z",
     "start_time": "2025-02-07T18:45:17.518097Z"
    }
   },
   "cell_type": "code",
   "source": [
    "ei_version = '3.10.1'\n",
    "year = '2020'"
   ],
   "id": "f430f9f48fdfd3f6",
   "outputs": [],
   "execution_count": 3
  },
  {
   "metadata": {
    "ExecuteTime": {
     "end_time": "2025-02-07T18:45:17.999935Z",
     "start_time": "2025-02-07T18:45:17.779162Z"
    }
   },
   "cell_type": "code",
   "source": [
    "if ei_version == '3.10.1':\n",
    "    main_ei_version = '3.10'\n",
    "else:\n",
    "    main_ei_version = ei_version"
   ],
   "id": "bf0b847720115548",
   "outputs": [],
   "execution_count": 4
  },
  {
   "cell_type": "code",
   "id": "4e670c3f-94b4-4186-a72e-3948e35c1fac",
   "metadata": {
    "ExecuteTime": {
     "end_time": "2025-02-07T18:45:41.147462Z",
     "start_time": "2025-02-07T18:45:39.222841Z"
    }
   },
   "source": [
    "regio = regioinvent.Regioinvent(\n",
    "    bw_project_name=f'ecoinvent{ei_version}', \n",
    "    premise_database_name=f'ecoinvent_cutoff_{ei_version}_image_SSP2-Base_{year}+truck_carculator', \n",
    "    ecoinvent_database_name=f'ecoinvent-{ei_version}-cutoff',\n",
    "    ecoinvent_version=main_ei_version,\n",
    ")"
   ],
   "outputs": [],
   "execution_count": 7
  },
  {
   "metadata": {},
   "cell_type": "code",
   "outputs": [],
   "execution_count": null,
   "source": "regio.fix_iam_location_codes()",
   "id": "8cb17f0688bfbd08"
  },
  {
   "cell_type": "markdown",
   "id": "2a9ed3cb-d827-4eb8-847c-cd15df807f01",
   "metadata": {},
   "source": [
    "First step of regioinvent is to spatialize the original ecoinvent database. This entails multiple steps:\n",
    "- Creating a new biosphere database for spatialized elementary flows (e.g., Ammonia, CA-QC)\n",
    "- Spatializing the elementary flows used within the ecoinvent database, based on the location of the process itself\n",
    "- Fixing water processes of ecoinvent creating imbalances (e.g., apple production in Chile calls irrigation, RoW -> imbalance)"
   ]
  },
  {
   "cell_type": "code",
   "id": "f386fd5d-8073-4d0f-a96e-be9151cdbaf0",
   "metadata": {
    "ExecuteTime": {
     "end_time": "2025-02-07T18:45:41.817222Z",
     "start_time": "2025-02-07T18:45:41.558134Z"
    }
   },
   "source": [
    "regio.spatialize_my_ecoinvent()"
   ],
   "outputs": [
    {
     "name": "stderr",
     "output_type": "stream",
     "text": [
      "2025-02-07 13:45:41,810 - Regioinvent - INFO - biosphere3_spatialized_flows already exists in this project.\n",
      "2025-02-07 13:45:41,810 - Regioinvent - INFO - There is already a spatialized version of ecoinvent in your project. If you want to redo spatialization, please delete it and re-run.\n"
     ]
    }
   ],
   "execution_count": 8
  },
  {
   "cell_type": "markdown",
   "id": "87383a6f-e062-46fb-afec-76eed2dd86cb",
   "metadata": {},
   "source": [
    "This creates two databases in your brightway2 project:\n",
    "- \"biosphere3_spatialized_flows\", which contains all the newly created spatialized elementary flows\n",
    "- \"the-name-of-your-ecoinvent-database regionalized\", which is a copy of the original ecoinvent but using spatialized elementary flows and boasting new processes to fix water modeling"
   ]
  },
  {
   "cell_type": "markdown",
   "id": "426da23b-5d0d-4488-b9a4-fe706b10b2ff",
   "metadata": {},
   "source": [
    "Because elementary flows are now spatialize, you will need a specific LCIA method to operate with any flow (spatialized or not). The following function imports such methods. Currently available: \"IW v2.1\". Soon available: \"EF v3.1\" and \"ReCiPe2016 v1.1 (E)\"."
   ]
  },
  {
   "cell_type": "code",
   "id": "716d3cc7-e9c1-48f9-9e47-8d9e285cca24",
   "metadata": {
    "ExecuteTime": {
     "end_time": "2025-01-30T14:57:58.898975Z",
     "start_time": "2025-01-30T14:56:10.707170Z"
    }
   },
   "source": [
    "regio.import_fully_regionalized_impact_method(lcia_method='IW v2.1')"
   ],
   "outputs": [
    {
     "name": "stderr",
     "output_type": "stream",
     "text": [
      "2025-01-30 09:56:10,713 - Regioinvent - INFO - Importing the fully regionalized version of IMPACT World+ v2.1 for ecoinvent3.10.\n"
     ]
    }
   ],
   "execution_count": 6
  },
  {
   "cell_type": "markdown",
   "id": "c05ffb4b-4f6c-4eae-b6b8-0d25f8ff1560",
   "metadata": {},
   "source": [
    "If you want to go further in the regionalization, i.e., to create new national production processes and to rely on trade data to regionalize consumption markets of ecoinvent, you can run the next function. There are 3 arguments:\n",
    "- _trade_database_path_ which is the path where you stored the trade database you downloaded from Zenodo: https://doi.org/10.5281/zenodo.11583814\n",
    "- _regioinvent_database_name_ which is simply the name that the created database will take\n",
    "- _cutoff_ which is the cut-off (between 0 and 1) beyond which countries will be aggreated as RoW. For more info on what cutoff does, see section \"Selection of countries for regionalization\" of the Methodology.md file."
   ]
  },
  {
   "cell_type": "code",
   "id": "12fe15f4-e3e4-439a-9938-dbffc90ae286",
   "metadata": {
    "ExecuteTime": {
     "end_time": "2025-02-07T21:26:42.661214Z",
     "start_time": "2025-02-07T18:45:57.499620Z"
    }
   },
   "source": [
    "regio.regionalize_ecoinvent_with_trade(\n",
    "    trade_database_path=r'C:\\Users\\matth\\PycharmProjects\\Regiopremise\\trade_data.db',\n",
    "    regioinvent_database_name=f'regioinvent_cutoff_{ei_version}_image_SSP2-Base_{year}+truck_carculator',\n",
    "    cutoff=0.95,\n",
    ")"
   ],
   "outputs": [
    {
     "name": "stdout",
     "output_type": "stream",
     "text": [
      "Getting activity data\n"
     ]
    },
    {
     "name": "stderr",
     "output_type": "stream",
     "text": [
      "100%|██████████| 48916/48916 [00:01<00:00, 39775.15it/s]\n"
     ]
    },
    {
     "name": "stdout",
     "output_type": "stream",
     "text": [
      "Adding exchange data to activities\n"
     ]
    },
    {
     "name": "stderr",
     "output_type": "stream",
     "text": [
      "100%|██████████| 1431765/1431765 [02:46<00:00, 8584.30it/s] \n"
     ]
    },
    {
     "name": "stdout",
     "output_type": "stream",
     "text": [
      "Filling out exchange data\n"
     ]
    },
    {
     "name": "stderr",
     "output_type": "stream",
     "text": [
      "100%|██████████| 48916/48916 [00:46<00:00, 1062.10it/s]\n",
      "2025-02-07 13:50:03,926 - Regioinvent - INFO - Extracting and formatting trade data...\n",
      "2025-02-07 13:53:18,049 - Regioinvent - INFO - Regionalizing main inputs of traded products of ecoinvent...\n",
      "100%|██████████| 1982/1982 [35:09<00:00,  1.06s/it]  \n",
      "2025-02-07 14:28:27,220 - Regioinvent - INFO - Creating consumption markets...\n",
      "100%|██████████| 1982/1982 [44:34<00:00,  1.35s/it]  \n",
      "2025-02-07 15:13:02,643 - Regioinvent - INFO - Performing second order regionalization...\n",
      "2025-02-07 15:13:17,102 - Regioinvent - INFO - Regionalizing the elementary flows of the regioinvent database...\n",
      "Writing activities to SQLite3 database:\n",
      "0% [##############################] 100% | ETA: 00:00:00\n",
      "Total time elapsed: 00:10:15\n"
     ]
    },
    {
     "name": "stdout",
     "output_type": "stream",
     "text": [
      "Title: Writing activities to SQLite3 database:\n",
      "  Started: 02/07/2025 15:14:11\n",
      "  Finished: 02/07/2025 15:24:27\n",
      "  Total time elapsed: 00:10:15\n",
      "  CPU %: 86.10\n",
      "  Memory %: 38.62\n"
     ]
    },
    {
     "name": "stderr",
     "output_type": "stream",
     "text": [
      "2025-02-07 15:40:34,157 - Regioinvent - INFO - Connecting ecoinvent to regioinvent processes...\n"
     ]
    }
   ],
   "execution_count": 9
  },
  {
   "cell_type": "markdown",
   "id": "2ed15eb4-8103-4575-9c02-1a0442efe5ec",
   "metadata": {},
   "source": [
    "This automatically wrote the regioinvent database in your brightway project. So you can now go on brightway2 or AB to perform your LCAs normally with regioinvent."
   ]
  },
  {
   "metadata": {},
   "cell_type": "code",
   "outputs": [],
   "execution_count": null,
   "source": "",
   "id": "13e2e03597f44e48"
  }
 ],
 "metadata": {
  "kernelspec": {
   "display_name": "Python 3 (ipykernel)",
   "language": "python",
   "name": "python3"
  },
  "language_info": {
   "codemirror_mode": {
    "name": "ipython",
    "version": 3
   },
   "file_extension": ".py",
   "mimetype": "text/x-python",
   "name": "python",
   "nbconvert_exporter": "python",
   "pygments_lexer": "ipython3",
   "version": "3.11.8"
  }
 },
 "nbformat": 4,
 "nbformat_minor": 5
}
